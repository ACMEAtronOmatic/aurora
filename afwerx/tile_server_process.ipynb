{
 "cells": [
  {
   "cell_type": "markdown",
   "metadata": {},
   "source": [
    "# Tile Server Process for Aurora Outputs"
   ]
  },
  {
   "cell_type": "code",
   "execution_count": 1,
   "metadata": {},
   "outputs": [
    {
     "name": "stdout",
     "output_type": "stream",
     "text": [
      "/home/jgib124/aurora/aurora/afwerx\n",
      "['serve.py', 'tile_server_process.ipynb', '__pycache__', 'aurora_regridding_process.ipynb', 'visualize.py', 'ssd1', 'flask_server.py', 'configs', 'tile_server.py', 'key.pem', 'tiles', 'cert.pem', 'aurora_inference_simple.py']\n"
     ]
    },
    {
     "name": "stderr",
     "output_type": "stream",
     "text": [
      "/home/jgib124/miniconda3/envs/aurora_test/lib/python3.11/site-packages/esmpy/interface/loadESMF.py:94: VersionWarning: ESMF installation version 8.8.0, ESMPy version 8.8.0b0\n",
      "  warnings.warn(\"ESMF installation version {}, ESMPy version {}\".format(\n"
     ]
    },
    {
     "name": "stdout",
     "output_type": "stream",
     "text": [
      "Wasabi: \n",
      "\tEndpoint:  https://s3.wasabisys.com/\n",
      "\tBucket:  aa-archiver\n",
      "IDrive: \n",
      "\tEndpoint:  https://l5l2.va.idrivee2-56.com\n",
      "\tBucket:  archive-mosaics\n"
     ]
    }
   ],
   "source": [
    "import os\n",
    "import sys\n",
    "\n",
    "sys.path.append('../')\n",
    "\n",
    "print(os.getcwd())\n",
    "print(os.listdir())\n",
    "\n",
    "import yaml\n",
    "from PIL import Image\n",
    "import numpy as np\n",
    "import torch\n",
    "import xarray as xr\n",
    "import matplotlib.pyplot as plt\n",
    "import cfgrib\n",
    "from datetime import datetime, timedelta\n",
    "import time\n",
    "from subprocess import Popen\n",
    "from io import BytesIO\n",
    "import ast\n",
    "from cartopy import crs as ccrs, feature as cfeature\n",
    "from datetime import datetime\n",
    "from tile_server import save_tile, tile_into_folders\n",
    "from serve import serve"
   ]
  },
  {
   "cell_type": "code",
   "execution_count": 2,
   "metadata": {},
   "outputs": [
    {
     "data": {
      "text/plain": [
       "KeysView(Frozen({'surf_2t': <xarray.Variable (batch: 1, history: 1, y: 4608, x: 7168)> Size: 132MB\n",
       "[33030144 values with dtype=float32], 'surf_10u': <xarray.Variable (batch: 1, history: 1, y: 4608, x: 7168)> Size: 132MB\n",
       "[33030144 values with dtype=float32], 'surf_10v': <xarray.Variable (batch: 1, history: 1, y: 4608, x: 7168)> Size: 132MB\n",
       "[33030144 values with dtype=float32], 'surf_msl': <xarray.Variable (batch: 1, history: 1, y: 4608, x: 7168)> Size: 132MB\n",
       "[33030144 values with dtype=float32], 'static_z': <xarray.Variable (y: 4608, x: 7168)> Size: 132MB\n",
       "[33030144 values with dtype=float32], 'static_slt': <xarray.Variable (y: 4608, x: 7168)> Size: 132MB\n",
       "[33030144 values with dtype=float32], 'static_lsm': <xarray.Variable (y: 4608, x: 7168)> Size: 132MB\n",
       "[33030144 values with dtype=float32], 'atmos_t': <xarray.Variable (batch: 1, history: 1, level: 13, y: 4608, x: 7168)> Size: 2GB\n",
       "[429391872 values with dtype=float32], 'atmos_u': <xarray.Variable (batch: 1, history: 1, level: 13, y: 4608, x: 7168)> Size: 2GB\n",
       "[429391872 values with dtype=float32], 'atmos_v': <xarray.Variable (batch: 1, history: 1, level: 13, y: 4608, x: 7168)> Size: 2GB\n",
       "[429391872 values with dtype=float32], 'atmos_q': <xarray.Variable (batch: 1, history: 1, level: 13, y: 4608, x: 7168)> Size: 2GB\n",
       "[429391872 values with dtype=float32], 'atmos_z': <xarray.Variable (batch: 1, history: 1, level: 13, y: 4608, x: 7168)> Size: 2GB\n",
       "[429391872 values with dtype=float32], 'time': <xarray.IndexVariable 'time' (time: 1)> Size: 8B\n",
       "array(['2023-01-01T12:00:00.000000000'], dtype='datetime64[ns]'), 'level': <xarray.IndexVariable 'level' (level: 13)> Size: 104B\n",
       "array([1000,  925,  850,  700,  600,  500,  400,  300,  250,  200,  150,  100,\n",
       "         50]), 'rollout_step': <xarray.Variable ()> Size: 8B\n",
       "[1 values with dtype=int64], 'longitude': <xarray.Variable (y: 4608, x: 7168)> Size: 264MB\n",
       "[33030144 values with dtype=float64], 'latitude': <xarray.Variable (y: 4608, x: 7168)> Size: 264MB\n",
       "[33030144 values with dtype=float64]}))"
      ]
     },
     "execution_count": 2,
     "metadata": {},
     "output_type": "execute_result"
    }
   ],
   "source": [
    "# Read in regridded data\n",
    "ds = xr.open_dataset(\"tiles/aurora_predictions_regridded.nc\", engine='netcdf4')\n",
    "\n",
    "ds.variables.keys()"
   ]
  },
  {
   "cell_type": "code",
   "execution_count": null,
   "metadata": {},
   "outputs": [],
   "source": [
    "# NOTE: either 1D or 3D image\n",
    "# TODO: check for number of channels and repeat if 1D\n",
    "serve_dir = \"/ssd1/aurora_maptuple/serve/v2\"\n",
    "noun = \"notebook_test\"\n",
    "timestamp = \"202301010000\"\n",
    "serve_port = '8000'\n",
    "zooms = (4, 11)\n",
    "\n",
    "for var in ['atmos_t', 'atmos_q', 'atmos_v', 'atmos_u']:\n",
    "    selected_array = ds[var].isel(batch=0, level=0, history=0).to_numpy()\n",
    "    tile_into_folders(serve_dir=serve_dir, noun=var, timestamp=timestamp, image=selected_array, zoom=zooms)\n",
    "\n",
    "for var in ['surf_msl']:\n",
    "    selected_array = ds[var].isel(batch=0, history=0).to_numpy()\n",
    "    tile_into_folders(serve_dir=serve_dir, noun=var, timestamp=timestamp, image=selected_array, zoom=zooms)"
   ]
  },
  {
   "cell_type": "markdown",
   "metadata": {},
   "source": [
    "## Serve generated tiles to an endpoint\n",
    "- HTTP-based server\n",
    "- Flask server"
   ]
  },
  {
   "cell_type": "code",
   "execution_count": null,
   "metadata": {},
   "outputs": [],
   "source": [
    "# Generate an SSL Certificate to use temporarily\n",
    "#  openssl req -x509 -days 1 -newkey rsa:2048 -keyout key.pem -out cert.pem"
   ]
  },
  {
   "cell_type": "code",
   "execution_count": null,
   "metadata": {},
   "outputs": [],
   "source": [
    "# HTTP Only Approach\n",
    "serve_dir = \"/ssd1/aurora_maptuple/serve\"\n",
    "serve_port = \"8888\"\n",
    "serve_address = \"100.99.120.135\"\n",
    "cert_path = \"cert.pem\"\n",
    "key_path = \"key.pem\"\n",
    "\n",
    "proc = Popen('python serve.py --serve_dir \"{}\" --serve_port {} --serve_address \"{}\" --certfile \"{}\" --keyfile \"{}\"'.format(serve_dir, serve_port, serve_address, cert_path, key_path), shell=True)\n",
    "print(time.ctime(), 'Serving directory \"{}\" at port {}'.format(serve_dir, serve_port))\n",
    "proc.pid"
   ]
  },
  {
   "cell_type": "code",
   "execution_count": null,
   "metadata": {},
   "outputs": [],
   "source": [
    "# https://maptuple.mrsv.co/?lat=39.833&lon=-98.585&zoom=7&frames=1,1&startTime=20230101T000000Z&split=mirror&base=https://map.acmeaom.com/dark/&radar=https://100.99.120.135:8888/v2/atmos_q/\n",
    "# https://maptuple.mrsv.co/?lat=39.833&lon=-98.585&zoom=7&frames=1,1&startTime=20230101T000000Z&split=mirror&base=https://map.acmeaom.com/dark/&radar=https://100.99.120.135:8888/v2/atmos_v/\n",
    "# https://maptuple.mrsv.co/?lat=39.833&lon=-98.585&zoom=7&frames=1,1&startTime=20230101T000000Z&split=mirror&base=https://map.acmeaom.com/dark/&radar=https://100.99.120.135:8888/v2/surf_msl/"
   ]
  },
  {
   "cell_type": "code",
   "execution_count": null,
   "metadata": {},
   "outputs": [],
   "source": [
    "Popen('netstat -tulpn | grep {}'.format(serve_port), shell=True)"
   ]
  },
  {
   "cell_type": "code",
   "execution_count": null,
   "metadata": {},
   "outputs": [],
   "source": [
    "Popen(\"kill {}\".format(proc.pid), shell=True)"
   ]
  },
  {
   "cell_type": "code",
   "execution_count": null,
   "metadata": {},
   "outputs": [],
   "source": [
    "%%sh \n",
    "kill 589971"
   ]
  },
  {
   "cell_type": "markdown",
   "metadata": {},
   "source": [
    "### Flask Server"
   ]
  },
  {
   "cell_type": "code",
   "execution_count": null,
   "metadata": {},
   "outputs": [],
   "source": [
    "import cv2\n",
    "from flask_cors import CORS\n",
    "from flask import Flask, send_file\n",
    "import io\n",
    "\n",
    "TILE_SIZE = 256\n",
    "ZOOM = 7\n",
    "\n",
    "CONUS_Y_SIZE = 4608\n",
    "CONUS_X_SIZE = 7168\n",
    "\n",
    "# Aurora size: 720, 1440\n",
    "# CONUS Size: 4608, 7168\n",
    "\n",
    "minTileX = 0\n",
    "minTileY = 0\n",
    "maxTileX = CONUS_X_SIZE // TILE_SIZE\n",
    "maxTileY = CONUS_Y_SIZE // TILE_SIZE\n",
    "\n",
    "minX = minTileX * TILE_SIZE\n",
    "minY = minTileY * TILE_SIZE\n",
    "maxX = maxTileX * TILE_SIZE\n",
    "maxY = maxTileY * TILE_SIZE\n",
    "\n",
    "var_serve_dr = \"atmos_t\"\n",
    "\n",
    "application = Flask(__name__)\n",
    "CORS(application) # Prevents CORS Errors"
   ]
  },
  {
   "cell_type": "code",
   "execution_count": null,
   "metadata": {},
   "outputs": [],
   "source": [
    "def serve_jpg(image):\n",
    "    '''Input RGB image and return servable jpg.'''\n",
    "    output = io.BytesIO()\n",
    "    image.save(output, format='jpeg')\n",
    "    output.seek(0, 0)\n",
    "    return send_file(output, mimetype='image/jpeg')\n",
    "\n",
    "def serve_png(image):\n",
    "    '''Input RGB image and return servable png.'''\n",
    "    output = io.BytesIO()\n",
    "    image.save(output, format='png')\n",
    "    output.seek(0, 0)\n",
    "    return send_file(output, mimetype='image/png')"
   ]
  },
  {
   "cell_type": "code",
   "execution_count": null,
   "metadata": {},
   "outputs": [],
   "source": [
    "def resample(tile, zoom, x, y):\n",
    "    pass"
   ]
  },
  {
   "cell_type": "code",
   "execution_count": null,
   "metadata": {},
   "outputs": [],
   "source": [
    "@application.route('/v2/ref_d_syn/<YYYYMMDDHHMM>/<zoom>/<x>/<y>.png')\n",
    "def get_png(YYYYMMDDHHMM, zoom, y, x):\n",
    "    '''\n",
    "    Process PNG Tile Requests, checking if tile is available or needs to be resampled\n",
    "\n",
    "    Parameters\n",
    "    ----------\n",
    "    YYYYMMDDHHMM : str\n",
    "        YYYYMMDDHHMM timestamp of the image.\n",
    "    zoom : str\n",
    "        Zoom level of the tile.\n",
    "    y : str\n",
    "        Y coordinate of the tile.\n",
    "    x : str\n",
    "        X coordinate of the tile.\n",
    "    '''\n",
    "    # NOTE: ignoring the date for now, this will come later\n",
    "    tname = f\"{serve_dir}/{zoom}/{x}/{y}.png\"\n",
    "    if os.path.isfile(tname):\n",
    "        return send_file(tname)\n",
    "    else:\n",
    "        # Needs to get resampled to required zoom level\n",
    "        # Will exist in zoom 7\n",
    "        tname = f\"{serve_dir}/7/{x}/{y}.png\"\n",
    "        if os.path.isfile(tname):\n",
    "            tile = cv2.imread(tname)\n",
    "            resampled = resample(tile, zoom, x, y)\n",
    "            return serve_png(resampled)\n",
    "        else:\n",
    "            raise FileNotFoundError(f\"Tile does not exist in Zoom 7: {tname}\")"
   ]
  },
  {
   "cell_type": "code",
   "execution_count": null,
   "metadata": {},
   "outputs": [],
   "source": []
  },
  {
   "cell_type": "markdown",
   "metadata": {},
   "source": [
    "### Code for finding updates"
   ]
  },
  {
   "cell_type": "code",
   "execution_count": null,
   "metadata": {},
   "outputs": [],
   "source": [
    "def get_updates(host : str, back_steps : int = 0, interval : int = 360, set_now : datetime = None):\n",
    "    '''\n",
    "    Returns the most current URL if data is present in the current or previous hour. \n",
    "    Will also return the hex UTC timestamp for provided URL\n",
    "\n",
    "    Parameters\n",
    "    ----------\n",
    "    host : str\n",
    "        Hostname of the server, e.g. MRMS, GFS, forecasts, etc.\n",
    "    back_steps : int\n",
    "        Timesteps to go back into time.\n",
    "    interval : int = 360\n",
    "        Timestep interval between updates in minutes\n",
    "    set_now : datetime.datetime = None\n",
    "        Set a specific datetime to check from. Defaults to None to use datetime.utcnow(), else\n",
    "        accepts a datetime object of the format datetime(year, month, day, hour, minute, second)\n",
    "    '''\n",
    "    if set_now is None:\n",
    "        now = datetime.utcnow()\n",
    "    else:\n",
    "        now = set_now\n",
    "\n",
    "    # UTC for the nearest interval\n",
    "    now = now - timedelta(minutes=(back_steps*interval + now.minute % interval),\n",
    "                                    seconds=now.second, microseconds=now.microsecond)\n",
    "    \n",
    "    since_1970 = now - datetime(1970, 1, 1)\n",
    "    \n",
    "    timestamp = hex(int(since_1970.total_seconds()))\n",
    "\n",
    "    print(\"Hex Timestamp: \", timestamp)\n",
    "    print(\"Now Timestamp: \", now)\n",
    "    print(\"Time since 1970: \", since_1970)\n",
    "\n",
    "\n",
    "get_updates(\"fake_url\", set_now=datetime(2023, 1, 1, 7))"
   ]
  },
  {
   "cell_type": "code",
   "execution_count": null,
   "metadata": {},
   "outputs": [],
   "source": []
  }
 ],
 "metadata": {
  "kernelspec": {
   "display_name": "aurora_test",
   "language": "python",
   "name": "python3"
  },
  "language_info": {
   "codemirror_mode": {
    "name": "ipython",
    "version": 3
   },
   "file_extension": ".py",
   "mimetype": "text/x-python",
   "name": "python",
   "nbconvert_exporter": "python",
   "pygments_lexer": "ipython3",
   "version": "3.11.9"
  }
 },
 "nbformat": 4,
 "nbformat_minor": 2
}
