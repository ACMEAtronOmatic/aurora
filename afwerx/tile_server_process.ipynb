{
 "cells": [
  {
   "cell_type": "markdown",
   "metadata": {},
   "source": [
    "# Tile Server Process for Aurora Outputs"
   ]
  },
  {
   "cell_type": "code",
   "execution_count": 1,
   "metadata": {},
   "outputs": [
    {
     "name": "stdout",
     "output_type": "stream",
     "text": [
      "/home/jgib124/aurora/aurora/afwerx\n",
      "['tile_server_process.ipynb', '__pycache__', 'aurora_regridding_process.ipynb', 'visualize.py', 'configs', 'tile_server.py', 'serve', 'tiles', 'aurora_inference_simple.py']\n"
     ]
    },
    {
     "name": "stderr",
     "output_type": "stream",
     "text": [
      "/home/jgib124/miniconda3/envs/aurora_test/lib/python3.11/site-packages/esmpy/interface/loadESMF.py:94: VersionWarning: ESMF installation version 8.8.0, ESMPy version 8.8.0b0\n",
      "  warnings.warn(\"ESMF installation version {}, ESMPy version {}\".format(\n"
     ]
    },
    {
     "name": "stdout",
     "output_type": "stream",
     "text": [
      "Wasabi: \n",
      "\tEndpoint:  https://s3.wasabisys.com/\n",
      "\tBucket:  aa-archiver\n",
      "IDrive: \n",
      "\tEndpoint:  https://l5l2.va.idrivee2-56.com\n",
      "\tBucket:  archive-mosaics\n"
     ]
    }
   ],
   "source": [
    "import os\n",
    "import sys\n",
    "\n",
    "sys.path.append('../')\n",
    "\n",
    "print(os.getcwd())\n",
    "print(os.listdir())\n",
    "\n",
    "import yaml\n",
    "from PIL import Image\n",
    "import numpy as np\n",
    "import torch\n",
    "import xarray as xr\n",
    "import matplotlib.pyplot as plt\n",
    "import cfgrib\n",
    "from datetime import datetime\n",
    "from io import BytesIO\n",
    "import ast\n",
    "from cartopy import crs as ccrs, feature as cfeature\n",
    "from tile_server import save_tile, tile_into_folders"
   ]
  },
  {
   "cell_type": "code",
   "execution_count": 2,
   "metadata": {},
   "outputs": [
    {
     "data": {
      "text/plain": [
       "KeysView(Frozen({'surf_2t': <xarray.Variable (batch: 1, history: 1, y: 4608, x: 7168)> Size: 132MB\n",
       "[33030144 values with dtype=float32], 'surf_10u': <xarray.Variable (batch: 1, history: 1, y: 4608, x: 7168)> Size: 132MB\n",
       "[33030144 values with dtype=float32], 'surf_10v': <xarray.Variable (batch: 1, history: 1, y: 4608, x: 7168)> Size: 132MB\n",
       "[33030144 values with dtype=float32], 'surf_msl': <xarray.Variable (batch: 1, history: 1, y: 4608, x: 7168)> Size: 132MB\n",
       "[33030144 values with dtype=float32], 'static_z': <xarray.Variable (y: 4608, x: 7168)> Size: 132MB\n",
       "[33030144 values with dtype=float32], 'static_slt': <xarray.Variable (y: 4608, x: 7168)> Size: 132MB\n",
       "[33030144 values with dtype=float32], 'static_lsm': <xarray.Variable (y: 4608, x: 7168)> Size: 132MB\n",
       "[33030144 values with dtype=float32], 'atmos_t': <xarray.Variable (batch: 1, history: 1, level: 13, y: 4608, x: 7168)> Size: 2GB\n",
       "[429391872 values with dtype=float32], 'atmos_u': <xarray.Variable (batch: 1, history: 1, level: 13, y: 4608, x: 7168)> Size: 2GB\n",
       "[429391872 values with dtype=float32], 'atmos_v': <xarray.Variable (batch: 1, history: 1, level: 13, y: 4608, x: 7168)> Size: 2GB\n",
       "[429391872 values with dtype=float32], 'atmos_q': <xarray.Variable (batch: 1, history: 1, level: 13, y: 4608, x: 7168)> Size: 2GB\n",
       "[429391872 values with dtype=float32], 'atmos_z': <xarray.Variable (batch: 1, history: 1, level: 13, y: 4608, x: 7168)> Size: 2GB\n",
       "[429391872 values with dtype=float32], 'time': <xarray.IndexVariable 'time' (time: 1)> Size: 8B\n",
       "array(['2023-01-01T12:00:00.000000000'], dtype='datetime64[ns]'), 'level': <xarray.IndexVariable 'level' (level: 13)> Size: 104B\n",
       "array([1000,  925,  850,  700,  600,  500,  400,  300,  250,  200,  150,  100,\n",
       "         50]), 'rollout_step': <xarray.Variable ()> Size: 8B\n",
       "[1 values with dtype=int64], 'longitude': <xarray.Variable (y: 4608, x: 7168)> Size: 264MB\n",
       "[33030144 values with dtype=float64], 'latitude': <xarray.Variable (y: 4608, x: 7168)> Size: 264MB\n",
       "[33030144 values with dtype=float64]}))"
      ]
     },
     "execution_count": 2,
     "metadata": {},
     "output_type": "execute_result"
    }
   ],
   "source": [
    "# Read in regridded data\n",
    "ds = xr.open_dataset(\"tiles/aurora_predictions_regridded.nc\", engine='netcdf4')\n",
    "\n",
    "ds.variables.keys()"
   ]
  },
  {
   "cell_type": "code",
   "execution_count": 3,
   "metadata": {},
   "outputs": [
    {
     "data": {
      "text/plain": [
       "(4608, 7168)"
      ]
     },
     "execution_count": 3,
     "metadata": {},
     "output_type": "execute_result"
    }
   ],
   "source": [
    "serve_dir = \"serve\"\n",
    "noun = \"notebook_test\"\n",
    "timestamp = \"20230101\"\n",
    "var = 'atmos_t'\n",
    "\n",
    "selected_array = ds[var].isel(batch=0, level=0, history=0).to_numpy()\n",
    "\n",
    "# lat, lon, channels\n",
    "selected_array.shape"
   ]
  },
  {
   "cell_type": "code",
   "execution_count": null,
   "metadata": {},
   "outputs": [
    {
     "name": "stdout",
     "output_type": "stream",
     "text": [
      "Image Tile:  (256, 256, 3)\n",
      "File Path:  serve/notebook_test/20230101/7/0/0.png\n",
      "Input Dimensions:  (256, 256)\n",
      "After Colorization:  (256, 256, 4)\n",
      "Tile Shape:  (256, 256, 4)\n",
      "Saving image to:  serve/notebook_test/20230101/7/0/0.png\n",
      "serve/notebook_test/20230101/7/0/0.png Status:  True\n",
      "Image Tile:  (256, 256, 3)\n",
      "File Path:  serve/notebook_test/20230101/7/0/1.png\n",
      "Input Dimensions:  (256, 256)\n",
      "After Colorization:  (256, 256, 4)\n",
      "Tile Shape:  (256, 256, 4)\n",
      "Saving image to:  serve/notebook_test/20230101/7/0/1.png\n",
      "serve/notebook_test/20230101/7/0/1.png Status:  True\n",
      "Image Tile:  (256, 256, 3)\n",
      "File Path:  serve/notebook_test/20230101/7/0/2.png\n",
      "Input Dimensions:  (256, 256)\n",
      "After Colorization:  (256, 256, 4)\n",
      "Tile Shape:  (256, 256, 4)\n",
      "Saving image to:  serve/notebook_test/20230101/7/0/2.png\n",
      "serve/notebook_test/20230101/7/0/2.png Status:  True\n",
      "Image Tile:  (256, 256, 3)\n",
      "File Path:  serve/notebook_test/20230101/7/1/0.png\n",
      "Input Dimensions:  (256, 256)\n",
      "After Colorization:  (256, 256, 4)\n",
      "Tile Shape:  (256, 256, 4)\n",
      "Saving image to:  serve/notebook_test/20230101/7/1/0.png\n",
      "serve/notebook_test/20230101/7/1/0.png Status:  True\n",
      "Image Tile:  (256, 256, 3)\n",
      "File Path:  serve/notebook_test/20230101/7/1/1.png\n",
      "Input Dimensions:  (256, 256)\n",
      "After Colorization:  (256, 256, 4)\n",
      "Tile Shape:  (256, 256, 4)\n",
      "Saving image to:  serve/notebook_test/20230101/7/1/1.png\n",
      "serve/notebook_test/20230101/7/1/1.png Status:  True\n",
      "Image Tile:  (256, 256, 3)\n",
      "File Path:  serve/notebook_test/20230101/7/1/2.png\n",
      "Input Dimensions:  (256, 256)\n",
      "After Colorization:  (256, 256, 4)\n",
      "Tile Shape:  (256, 256, 4)\n",
      "Saving image to:  serve/notebook_test/20230101/7/1/2.png\n",
      "serve/notebook_test/20230101/7/1/2.png Status:  True\n",
      "Image Tile:  (256, 256, 3)\n",
      "File Path:  serve/notebook_test/20230101/7/2/0.png\n",
      "Input Dimensions:  (256, 256)\n",
      "After Colorization:  (256, 256, 4)\n",
      "Tile Shape:  (256, 256, 4)\n",
      "Saving image to:  serve/notebook_test/20230101/7/2/0.png\n",
      "serve/notebook_test/20230101/7/2/0.png Status:  True\n",
      "Image Tile:  (256, 256, 3)\n",
      "File Path:  serve/notebook_test/20230101/7/2/1.png\n",
      "Input Dimensions:  (256, 256)\n",
      "After Colorization:  (256, 256, 4)\n",
      "Tile Shape:  (256, 256, 4)\n",
      "Saving image to:  serve/notebook_test/20230101/7/2/1.png\n",
      "serve/notebook_test/20230101/7/2/1.png Status:  True\n",
      "Image Tile:  (256, 256, 3)\n",
      "File Path:  serve/notebook_test/20230101/7/2/2.png\n",
      "Input Dimensions:  (256, 256)\n",
      "After Colorization:  (256, 256, 4)\n",
      "Tile Shape:  (256, 256, 4)\n",
      "Saving image to:  serve/notebook_test/20230101/7/2/2.png\n",
      "serve/notebook_test/20230101/7/2/2.png Status:  True\n",
      "Image Tile:  (256, 256, 3)\n",
      "File Path:  serve/notebook_test/20230101/7/3/0.png\n",
      "Input Dimensions:  (256, 256)\n",
      "After Colorization:  (256, 256, 4)\n",
      "Tile Shape:  (256, 256, 4)\n",
      "Saving image to:  serve/notebook_test/20230101/7/3/0.png\n",
      "serve/notebook_test/20230101/7/3/0.png Status:  True\n",
      "Image Tile:  (256, 256, 3)\n",
      "File Path:  serve/notebook_test/20230101/7/3/1.png\n",
      "Input Dimensions:  (256, 256)\n",
      "After Colorization:  (256, 256, 4)\n",
      "Tile Shape:  (256, 256, 4)\n",
      "Saving image to:  serve/notebook_test/20230101/7/3/1.png\n",
      "serve/notebook_test/20230101/7/3/1.png Status:  True\n",
      "Image Tile:  (256, 256, 3)\n",
      "File Path:  serve/notebook_test/20230101/7/3/2.png\n",
      "Input Dimensions:  (256, 256)\n",
      "After Colorization:  (256, 256, 4)\n",
      "Tile Shape:  (256, 256, 4)\n",
      "Saving image to:  serve/notebook_test/20230101/7/3/2.png\n",
      "serve/notebook_test/20230101/7/3/2.png Status:  True\n",
      "Image Tile:  (256, 256, 3)\n",
      "File Path:  serve/notebook_test/20230101/7/4/0.png\n",
      "Input Dimensions:  (256, 256)\n",
      "After Colorization:  (256, 256, 4)\n",
      "Tile Shape:  (256, 256, 4)\n",
      "Saving image to:  serve/notebook_test/20230101/7/4/0.png\n",
      "serve/notebook_test/20230101/7/4/0.png Status:  True\n",
      "Image Tile:  (256, 256, 3)\n",
      "File Path:  serve/notebook_test/20230101/7/4/1.png\n",
      "Input Dimensions:  (256, 256)\n",
      "After Colorization:  (256, 256, 4)\n",
      "Tile Shape:  (256, 256, 4)\n",
      "Saving image to:  serve/notebook_test/20230101/7/4/1.png\n",
      "serve/notebook_test/20230101/7/4/1.png Status:  True\n",
      "Image Tile:  (256, 256, 3)\n",
      "File Path:  serve/notebook_test/20230101/7/4/2.png\n",
      "Input Dimensions:  (256, 256)\n",
      "After Colorization:  (256, 256, 4)\n",
      "Tile Shape:  (256, 256, 4)\n",
      "Saving image to:  serve/notebook_test/20230101/7/4/2.png\n",
      "serve/notebook_test/20230101/7/4/2.png Status:  True\n",
      "Image Tile:  (256, 256, 3)\n",
      "File Path:  serve/notebook_test/20230101/7/5/0.png\n",
      "Input Dimensions:  (256, 256)\n",
      "After Colorization:  (256, 256, 4)\n",
      "Tile Shape:  (256, 256, 4)\n",
      "Saving image to:  serve/notebook_test/20230101/7/5/0.png\n",
      "serve/notebook_test/20230101/7/5/0.png Status:  True\n",
      "Image Tile:  (256, 256, 3)\n",
      "File Path:  serve/notebook_test/20230101/7/5/1.png\n",
      "Input Dimensions:  (256, 256)\n",
      "After Colorization:  (256, 256, 4)\n",
      "Tile Shape:  (256, 256, 4)\n",
      "Saving image to:  serve/notebook_test/20230101/7/5/1.png\n",
      "serve/notebook_test/20230101/7/5/1.png Status:  True\n",
      "Image Tile:  (256, 256, 3)\n",
      "File Path:  serve/notebook_test/20230101/7/5/2.png\n",
      "Input Dimensions:  (256, 256)\n",
      "After Colorization:  (256, 256, 4)\n",
      "Tile Shape:  (256, 256, 4)\n",
      "Saving image to:  serve/notebook_test/20230101/7/5/2.png\n",
      "serve/notebook_test/20230101/7/5/2.png Status:  True\n"
     ]
    },
    {
     "name": "stderr",
     "output_type": "stream",
     "text": [
      "[ WARN:0@1.125] global loadsave.cpp:848 imwrite_ Unsupported depth image for selected encoder is fallbacked to CV_8U.\n"
     ]
    }
   ],
   "source": [
    "# NOTE: either 1D or 3D image\n",
    "# TODO: check for number of channels and repeat if 1D\n",
    "serve_dir = \"serve\"\n",
    "noun = \"notebook_test\"\n",
    "timestamp = \"20230101\"\n",
    "\n",
    "for var in ['atmos_t', 'atmos_q', 'atmos_v']:\n",
    "    selected_array = ds[var].isel(batch=0, level=0, history=0).to_numpy()\n",
    "    tile_into_folders(serve_dir=serve_dir, noun=var, timestamp=timestamp, image=selected_array)"
   ]
  },
  {
   "cell_type": "code",
   "execution_count": null,
   "metadata": {},
   "outputs": [],
   "source": []
  },
  {
   "cell_type": "code",
   "execution_count": null,
   "metadata": {},
   "outputs": [],
   "source": []
  }
 ],
 "metadata": {
  "kernelspec": {
   "display_name": "aurora_test",
   "language": "python",
   "name": "python3"
  },
  "language_info": {
   "codemirror_mode": {
    "name": "ipython",
    "version": 3
   },
   "file_extension": ".py",
   "mimetype": "text/x-python",
   "name": "python",
   "nbconvert_exporter": "python",
   "pygments_lexer": "ipython3",
   "version": "3.11.9"
  }
 },
 "nbformat": 4,
 "nbformat_minor": 2
}
